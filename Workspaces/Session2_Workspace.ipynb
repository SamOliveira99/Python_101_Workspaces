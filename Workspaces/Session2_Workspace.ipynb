{
 "cells": [
  {
   "cell_type": "markdown",
   "metadata": {},
   "source": [
    "# Lecture 2 Workspace\n",
    "Try out the code from the lectures here!"
   ]
  },
  {
   "cell_type": "markdown",
   "metadata": {},
   "source": [
    "# User Input"
   ]
  },
  {
   "cell_type": "code",
   "execution_count": null,
   "metadata": {},
   "outputs": [],
   "source": []
  },
  {
   "cell_type": "markdown",
   "metadata": {},
   "source": [
    "# Exercises User Input\n",
    "\n",
    "1) Try running the following program, what is wrong? What is the type of the input?"
   ]
  },
  {
   "cell_type": "code",
   "execution_count": 11,
   "metadata": {},
   "outputs": [
    {
     "name": "stdout",
     "output_type": "stream",
     "text": [
      "Enter your input: 20\n"
     ]
    },
    {
     "ename": "TypeError",
     "evalue": "can only concatenate str (not \"int\") to str",
     "output_type": "error",
     "traceback": [
      "\u001b[1;31m---------------------------------------------------------------------------\u001b[0m",
      "\u001b[1;31mTypeError\u001b[0m                                 Traceback (most recent call last)",
      "\u001b[1;32m<ipython-input-11-3fd279f58553>\u001b[0m in \u001b[0;36m<module>\u001b[1;34m\u001b[0m\n\u001b[0;32m      1\u001b[0m \u001b[0mx\u001b[0m \u001b[1;33m=\u001b[0m \u001b[0minput\u001b[0m\u001b[1;33m(\u001b[0m\u001b[1;34m\"Enter your input: \"\u001b[0m\u001b[1;33m)\u001b[0m\u001b[1;33m\u001b[0m\u001b[1;33m\u001b[0m\u001b[0m\n\u001b[1;32m----> 2\u001b[1;33m \u001b[0mprint\u001b[0m\u001b[1;33m(\u001b[0m\u001b[0mx\u001b[0m \u001b[1;33m+\u001b[0m \u001b[1;36m20\u001b[0m\u001b[1;33m)\u001b[0m\u001b[1;33m\u001b[0m\u001b[1;33m\u001b[0m\u001b[0m\n\u001b[0m",
      "\u001b[1;31mTypeError\u001b[0m: can only concatenate str (not \"int\") to str"
     ]
    }
   ],
   "source": [
    "x = input(\"Enter your input: \")\n",
    "print(x + 20)"
   ]
  },
  {
   "cell_type": "markdown",
   "metadata": {},
   "source": [
    "2) Write a program that will take your name and print reversed version of it."
   ]
  },
  {
   "cell_type": "code",
   "execution_count": null,
   "metadata": {},
   "outputs": [],
   "source": []
  },
  {
   "cell_type": "markdown",
   "metadata": {},
   "source": [
    "# Control Flow"
   ]
  },
  {
   "cell_type": "code",
   "execution_count": null,
   "metadata": {},
   "outputs": [],
   "source": []
  },
  {
   "attachments": {},
   "cell_type": "markdown",
   "metadata": {},
   "source": [
    "# Exercises Control Flow\n",
    "\n",
    "1) Have the program call out (print) “Marco”, and the user must respond. If the response is exactly “Polo”, then the program responds with something nice. If the response is incorrect, tells the user to go away!"
   ]
  },
  {
   "cell_type": "code",
   "execution_count": null,
   "metadata": {},
   "outputs": [],
   "source": []
  },
  {
   "cell_type": "markdown",
   "metadata": {},
   "source": [
    "2) BONUS: Ignore upper-case/lower-case errors, so allow ‘polo’, ‘POLO’, ‘pOlO’.....etc"
   ]
  },
  {
   "cell_type": "code",
   "execution_count": null,
   "metadata": {},
   "outputs": [],
   "source": []
  },
  {
   "cell_type": "markdown",
   "metadata": {},
   "source": [
    "# While Loop"
   ]
  },
  {
   "cell_type": "code",
   "execution_count": null,
   "metadata": {},
   "outputs": [],
   "source": []
  },
  {
   "cell_type": "markdown",
   "metadata": {},
   "source": [
    "# Exercises While Loop"
   ]
  },
  {
   "attachments": {},
   "cell_type": "markdown",
   "metadata": {},
   "source": [
    "1) Modify the Marco Polo code. If the user answers correctly, play again, otherwise stop."
   ]
  },
  {
   "cell_type": "code",
   "execution_count": null,
   "metadata": {},
   "outputs": [],
   "source": []
  },
  {
   "cell_type": "markdown",
   "metadata": {},
   "source": [
    "2) Write a program that prints all Fibonacci numbers smaller than 50. An example of a Fibonacci sequence is the following:\n",
    "\n",
    "\\\\[F_0=0,F_1=1,F_n=F_n−1+F_n−2.\\\\]"
   ]
  },
  {
   "cell_type": "code",
   "execution_count": null,
   "metadata": {},
   "outputs": [],
   "source": []
  },
  {
   "cell_type": "markdown",
   "metadata": {},
   "source": [
    "3) **Create a `while` loop** to find Celsius temperatures for Fahrenheit temperatures between 20\\\\(^\\circ\\\\)F and 80\\\\(^\\circ\\\\)F at 5\\\\(^\\circ\\\\)F increments. The Fahrenheit-Celsius conversion formula is:\n",
    "\n",
    "\\\\[ T_{Celsius} = \\frac{5}{9}*(T_{Fahrenheit}-32). \\\\]"
   ]
  },
  {
   "cell_type": "code",
   "execution_count": null,
   "metadata": {},
   "outputs": [],
   "source": []
  },
  {
   "cell_type": "markdown",
   "metadata": {},
   "source": [
    "# Lists"
   ]
  },
  {
   "cell_type": "markdown",
   "metadata": {},
   "source": [
    "* Are there any constraints on what can be in lists?\n",
    "* What do == and the other comparison operators do on lists?\n",
    "* Arithmetic operations on lists\n",
    "* What happens when you try to retrieve the 5th element of a list that actually only has 3 elements?"
   ]
  },
  {
   "cell_type": "code",
   "execution_count": null,
   "metadata": {},
   "outputs": [],
   "source": []
  },
  {
   "attachments": {},
   "cell_type": "markdown",
   "metadata": {},
   "source": [
    "* What happens when you try to remove an element from list that isn’t actually in the list?\n",
    "* How do you remove the nth element of a list?\n",
    "* If you have a list of size n, how do you remove every single element of the list (and get back the empty list)?"
   ]
  },
  {
   "cell_type": "code",
   "execution_count": null,
   "metadata": {},
   "outputs": [],
   "source": []
  },
  {
   "attachments": {},
   "cell_type": "markdown",
   "metadata": {},
   "source": [
    "* The id() function with other types we’ve covered\n",
    "* The ‘is’ operator with other types we’ve covered\n",
    "* Play around with what happens to the id() of variables that we change/modify e.g. strings that we concatenate, lists that we append/remove, etc."
   ]
  },
  {
   "cell_type": "code",
   "execution_count": null,
   "metadata": {},
   "outputs": [],
   "source": []
  },
  {
   "attachments": {},
   "cell_type": "markdown",
   "metadata": {},
   "source": [
    "* pop()\n",
    "* copy()\n",
    "* insert()\n",
    "* reverse()\n",
    "* sort()\n",
    "* index()\n",
    "\n",
    "See the official documentation!"
   ]
  },
  {
   "cell_type": "code",
   "execution_count": null,
   "metadata": {},
   "outputs": [],
   "source": []
  },
  {
   "cell_type": "markdown",
   "metadata": {},
   "source": [
    "# Exercises Lists\n",
    "* **Multi-type lists** compared to other programming languages Python is very flexible when it comes to types of objects inside them. For example, we can have the following list:\n",
    "\n",
    "        l = [1,\"0\",True]\n",
    "\n",
    "    Try to transform the above list into the following one using list operations such as `del` and `append`:\n",
    "\n",
    "        l = [1,2,3]\n",
    "\n",
    "    Print the largest element of the list."
   ]
  },
  {
   "cell_type": "code",
   "execution_count": null,
   "metadata": {},
   "outputs": [],
   "source": []
  },
  {
   "cell_type": "markdown",
   "metadata": {},
   "source": [
    "# For Loop"
   ]
  },
  {
   "attachments": {},
   "cell_type": "markdown",
   "metadata": {},
   "source": [
    "1) Print out all the multiples of 3 less than 3n, using a for loop."
   ]
  },
  {
   "cell_type": "code",
   "execution_count": null,
   "metadata": {},
   "outputs": [],
   "source": []
  },
  {
   "attachments": {},
   "cell_type": "markdown",
   "metadata": {},
   "source": [
    "2) Given a list, how do you print out every single element of the list?"
   ]
  },
  {
   "cell_type": "code",
   "execution_count": null,
   "metadata": {},
   "outputs": [],
   "source": []
  },
  {
   "cell_type": "markdown",
   "metadata": {},
   "source": [
    "# Exercises For Loop"
   ]
  },
  {
   "cell_type": "markdown",
   "metadata": {},
   "source": [
    "1) **Create a `for` loop** to find Celsius temperatures for Fahrenheit temperatures between 20\\\\(^\\circ\\\\)F and 80\\\\(^\\circ\\\\)F at 5\\\\(^\\circ\\\\)F increments. The Fahrenheit-Celsius conversion formula is:\n",
    "\n",
    "\\\\[ T_{Celsius} = \\frac{5}{9}*(T_{Fahrenheit}-32).\\\\]"
   ]
  },
  {
   "cell_type": "code",
   "execution_count": null,
   "metadata": {},
   "outputs": [],
   "source": []
  },
  {
   "cell_type": "markdown",
   "metadata": {},
   "source": [
    "2) **Triangles**: We want to create a triangle of \\\\(n\\\\) rows of numbers which looks as follows:\n",
    "\n",
    "        1\n",
    "        1 2\n",
    "        1 2 3\n",
    "        1 2 3 4 \n",
    "        1 2 3 4 5\n",
    "        \n",
    "**HINT**: Consider iterating over a range \\\\([1,...n]\\\\)"
   ]
  },
  {
   "cell_type": "code",
   "execution_count": null,
   "metadata": {},
   "outputs": [],
   "source": []
  },
  {
   "cell_type": "markdown",
   "metadata": {},
   "source": [
    "# List Comprehension\n",
    "Check:\n",
    "https://primer-computational-mathematics.github.io/book/b_coding/Intro%20to%20Python/7_List_comprehensions.html"
   ]
  },
  {
   "cell_type": "markdown",
   "metadata": {},
   "source": [
    "# Exercises List Comprehension"
   ]
  },
  {
   "cell_type": "markdown",
   "metadata": {},
   "source": [
    "1) **Create a list comprehension** to find Celsius temperatures for Fahrenheit temperatures between \\\\(20^\\circ\\\\)F and \\\\(80^\\circ\\\\)F at \\\\(5^\\circ\\\\)F increments. The Fahrenheit-Celsius conversion formula is:\n",
    "\n",
    "\\\\[ T_{Celsius} = \\frac{5}{9}*(T_{Fahrenheit}-32). \\\\]"
   ]
  },
  {
   "cell_type": "code",
   "execution_count": null,
   "metadata": {},
   "outputs": [],
   "source": []
  },
  {
   "cell_type": "markdown",
   "metadata": {},
   "source": [
    "2) **Create a list** of powers of two \\\\(2^x\\\\) where \\\\(x\\\\) is positive, odd, not divisible by 3 and smaller than 40. Iterate through that list and print the last integer of each element. Numbers tend to show up patterns in such analysis, can you spot one?"
   ]
  },
  {
   "cell_type": "code",
   "execution_count": null,
   "metadata": {},
   "outputs": [],
   "source": []
  },
  {
   "cell_type": "markdown",
   "metadata": {},
   "source": [
    "# Nested Lists\n",
    "Check:\n",
    "https://primer-computational-mathematics.github.io/book/b_coding/Intro%20to%20Python/8_Nested_lists.html"
   ]
  },
  {
   "cell_type": "markdown",
   "metadata": {},
   "source": [
    "# Exercises Nested Lists"
   ]
  },
  {
   "cell_type": "markdown",
   "metadata": {},
   "source": [
    "* **Local peaks**: Powerful alien civilisation plans to invade Earth. Thanks to their adavanced technology, they were able to scan the surface of our planet without anyone noticing. You, as their head general, need to decide where the UFOs will land. The best alien scientists provide you with a map of a terrain where the invasion will begin, which can be generated by the code:"
   ]
  },
  {
   "cell_type": "code",
   "execution_count": 14,
   "metadata": {},
   "outputs": [
    {
     "name": "stdout",
     "output_type": "stream",
     "text": [
      "168 391 491 132 230 160 353 489 330 341\n",
      "433 294 207 148 349 114 299 321 411 490\n",
      "492 101 456 328 236 469 217 402 152 262\n",
      "115 111 113 432 377 104 295 451 210 316\n",
      "471 114 370 213 491 324 353 383 219 276\n",
      "218 446 212 489 335 248 111 313 384 428\n",
      "151 195 422 470 251 161 480 270 469 464\n",
      "356 316 359 443 197 255 245 400 355 358\n",
      "301 401 117 345 224 480 306 312 440 188\n",
      "287 380 459 497 445 477 291 144 324 439\n"
     ]
    }
   ],
   "source": [
    "import random\n",
    "\n",
    "# A seed prints the same sequence of numbers every time  \n",
    "# USE FOR TESTING ONLY\n",
    "# Delete the following line, when done\n",
    "random.seed(1)  \n",
    "\n",
    "a = 10\n",
    "i_map=[[random.randint(100,500) for i in range(a)] for j in range(a)]\n",
    "   \n",
    "for i in range(a):\n",
    "    print(*i_map[i])"
   ]
  },
  {
   "cell_type": "markdown",
   "metadata": {},
   "source": [
    "The numbers in the grid represent the height of a particulair coordinate. The UFO can land only on a local peak i.e. a point surrounded by the points of *equal-or-lower* height, e.g\n",
    "\n",
    "    1 2 3\n",
    "    5 9 6\n",
    "    6 9 4\n",
    "\n",
    "The middle cell with \\\\(9\\\\) inside satisfies the local peak condition.\n",
    "\n",
    "Return a list of coordinates with local peaks, do not consider the edge cells (but use them in determining other peaks). Good luck General!"
   ]
  },
  {
   "cell_type": "code",
   "execution_count": null,
   "metadata": {},
   "outputs": [],
   "source": []
  }
 ],
 "metadata": {
  "kernelspec": {
   "display_name": "Python 3",
   "language": "python",
   "name": "python3"
  },
  "language_info": {
   "codemirror_mode": {
    "name": "ipython",
    "version": 3
   },
   "file_extension": ".py",
   "mimetype": "text/x-python",
   "name": "python",
   "nbconvert_exporter": "python",
   "pygments_lexer": "ipython3",
   "version": "3.7.4"
  }
 },
 "nbformat": 4,
 "nbformat_minor": 4
}
